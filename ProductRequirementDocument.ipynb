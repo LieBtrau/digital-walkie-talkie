{
 "cells": [
  {
   "cell_type": "markdown",
   "metadata": {},
   "source": [
    "# Requirement\n",
    "## Firmware\n",
    "* Should be firmware compatible to the [RNode](https://unsigned.io/hardware/RNode.html), so that the Unsigned.io tools can be used to interact with it.  This also includes the ability to function as a TNC for use with:\n",
    "  * ~~[APRSdroid](https://aprsdroid.org/)~~ Use [Sideband for Android](https://unsigned.io/software/Sideband.html) instead.  It's a better app and includes encryption.\n",
    "  * [Codec2_talkie](https://github.com/sh123/codec2_talkie/releases)\n",
    "* Interfacing with the RNode should be done over Bluetooth.  No wired connections between the RNode and the smartphone.\n",
    "* Radio interface should be [M17-compatible](https://spec.m17project.org/), or very similar.  9600baud, 4FSK, 12.5kHz channel spacing.\n",
    "\n",
    "## Hardware\n",
    "* Bluetooth serial port support\n",
    "* Battery operated\n",
    "* Charge via USB-C\n",
    "* [OHIS-interface](https://ohis.org/) to HTs.\n",
    "\n",
    "# Prior Art\n",
    "* [M17 Analog Hotspot Gateway Project](https://github.com/nakhonthai/M17AnalogGateway/tree/master):\n",
    "  * supported hardware: ESP32DR Simple or [ESP32DR_SA818](https://github.com/nakhonthai/ESP32IGate/tree/master/doc/ESP32DR_SA868)\n",
    "  * using ESP-Arduino development on VScode\n",
    "  * support M17 mref reflector\n",
    "  * support noise cancellation\n",
    "  * support AGC\n",
    "  * doesn't use an audio codec.  Uses opamp circuits for audio filtering\n",
    "* [VHF/UHF Transceiver Personality Board](https://g1lro.uk/?p=456)\n",
    "  * SA868 board with SMD-filter"
   ]
  }
 ],
 "metadata": {
  "kernelspec": {
   "display_name": "Python 3",
   "language": "python",
   "name": "python3"
  },
  "language_info": {
   "name": "python",
   "version": "3.10.5"
  }
 },
 "nbformat": 4,
 "nbformat_minor": 2
}
