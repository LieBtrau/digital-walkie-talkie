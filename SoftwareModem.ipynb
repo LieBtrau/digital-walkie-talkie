{
 "cells": [
  {
   "cell_type": "markdown",
   "metadata": {},
   "source": [
    "# Modems\n",
    "## Rattlegram\n",
    "* OFDM\n",
    "* Selectable packet size\n",
    "* Not suitable for audio streaming which requires low latency\n",
    "* Tested with PMR446 radios\n",
    "\n",
    "## M17\n",
    "* 4GFSK, 9600 baud\n",
    "* Designed for audio streaming"
   ]
  }
 ],
 "metadata": {
  "kernelspec": {
   "display_name": "Python 3",
   "language": "python",
   "name": "python3"
  },
  "language_info": {
   "name": "python",
   "version": "3.10.5"
  }
 },
 "nbformat": 4,
 "nbformat_minor": 2
}
