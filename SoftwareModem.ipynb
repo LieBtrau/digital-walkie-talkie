{
 "cells": [
  {
   "cell_type": "markdown",
   "metadata": {},
   "source": [
    "# Modems\n",
    "## Rattlegram\n",
    "* OFDM\n",
    "* Selectable packet size\n",
    "* Not suitable for audio streaming which requires low latency\n",
    "* Tested with PMR446 radios\n",
    "\n",
    "## M17\n",
    "* 4GFSK, 9600 baud\n",
    "* Designed for audio streaming\n",
    "\n",
    "### Installing M17-tools\n",
    "```bash\n",
    "sudo apt install pkg-config libboost-all-dev libgtest-dev libasound-dev codec2\n",
    "git clone git@github.com:M17-Project/m17-tools.git\n",
    "cd m17-tools\n",
    "mkdir build\n",
    "cd build\n",
    "cmake .. -DBUILD_GUI_APPS=OFF\n",
    "make\n",
    "make test\n",
    "```\n",
    "### Testing M17\n",
    "#### Loopback test\n",
    "```bash\n",
    "cd apps\n",
    "sox ../../ve9qrp.wav -t raw - |  ./m17-mod -S AB1CD -D AB2CD | ./m17-demod -l -d | play -q -b 16 -r 8000 -c1 -t s16 -\n",
    "```\n",
    "\n",
    "#### Reduce audio fragment length\n",
    "```bash\n",
    "sox ../../ve9qrp.wav ../../ve9qrp_10s.wav trim 0 10\n",
    "```\n",
    "\n",
    "#### Loopback through analog audio path\n",
    "Create M17 audio file using:\n",
    "```bash \n",
    "sox ../../ve9qrp_10s.wav -t raw - |  ./m17-mod -S AB1CD -D AB2CD -r > ../../ve9qrp_10s_M17.raw\n",
    "```\n",
    "This produces a 48kHz 16-bit mono audio file.  Play this file using:\n",
    "```bash\n",
    "play -q -b 16 -r 48000 -c1 -t s16 ../../ve9qrp_10s_M17.raw\n",
    "```\n",
    "For user-friendly playback and analysis with Audacity, convert the raw file to WAV using:\n",
    "```bash\n",
    "sox -t raw -r 48000 -b 16 -c 1 -e signed-integer ../../ve9qrp_10s_M17.raw ../../ve9qrp_10s_M17.wav\n",
    "```\n",
    "In Audacity, the spectrogram view shows that all the energy is in the frequency range 0-3.6kHz.\n",
    "\n",
    "Convert the M17 audio file to raw analog audio using:\n",
    "```bash\n",
    "./m17-demod -l -d < ../../ve9qrp_10s_M17.raw > ../../ve9qrp_10s_M17_demod.raw\n",
    "```\n"
   ]
  }
 ],
 "metadata": {
  "kernelspec": {
   "display_name": "Python 3",
   "language": "python",
   "name": "python3"
  },
  "language_info": {
   "name": "python",
   "version": "3.10.5"
  }
 },
 "nbformat": 4,
 "nbformat_minor": 2
}
