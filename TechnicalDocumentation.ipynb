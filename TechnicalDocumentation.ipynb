{
 "cells": [
  {
   "cell_type": "markdown",
   "metadata": {},
   "source": [
    "# Microcontroller\n",
    "Support for bluetooth serial port profile ([SPP](https://www.bluetooth.com/specifications/specs/serial-port-profile-1-1/)) is needed.  Only the ESP32 has this feature.  There's already support for it in Arduino/PlatformIO as well.\n",
    "\n",
    "# Wireless Physical Layer\n",
    "## Technology choice\n",
    "Using either an software modem with an analog transceiver (probably narrow-band FM) or using a digital module (4(G)FSK)\n",
    "\n",
    "### Software modem\n",
    "* Reconfigurable through software: Rattlegram, M17, AFSK, etc.\n",
    "* High TX-power\n",
    "* Several bands can be used : HF, VHF, UHF\n",
    "* On UHF-frequencies, the ham-repeaters can be used to extend the range.\n",
    "* No RF-design needed, because either connect to HT or use an HT-module (DRA818V, etc.).\n",
    "* Software modems already available for PC-platform so they can be quickly evaluated without much programming work.\n",
    "* Requires a lot of processing power.  This should be no problem for the ESP32.\n",
    "\n",
    "### ~~Digital module~~\n",
    "* Vendor lock-in.  Si4463 is very-closed source.  CC1200 is more open.\n",
    "* UHF-frequencies only.\n",
    "* Incompatible with ham-repeaters (no DCS, CTCSS, etc.).\n",
    "* The Si4463 and CC1200 are quite complex and require a lot of time to develop a firmware for.\n",
    "* High-power modules are only available for the Si4463 and only from two Chinese manufacturers.  What if these manufacturers decide to stop manufacturing these modules one day just as they did with the module I'm currently using?\n",
    "* The transceiver only works in a single band : 434MHz or 868MHz.\n",
    "* Can use low power MCU\n",
    "* Lower power consumption\n",
    "\n",
    "# Analog audio path\n",
    "An audio codec will be used instead of the ADC/DAC inside the ESP32 because it offers more functions.\n",
    "* Sampling rate of 8kHz and 48kHz must be supported.\n",
    "* Microphone input\n",
    "* Line output\n",
    "\n",
    "## Options\n",
    "* ES8311 : Used in ESP32-LyraT-Mini, mono in/out\n",
    "* ES8388 : Used in Aithinker Audio toolkit, stereo in/out (mono is enough)\n"
   ]
  }
 ],
 "metadata": {
  "kernelspec": {
   "display_name": "Python 3",
   "language": "python",
   "name": "python3"
  },
  "language_info": {
   "name": "python",
   "version": "3.10.5"
  }
 },
 "nbformat": 4,
 "nbformat_minor": 2
}
