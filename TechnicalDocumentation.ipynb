{
 "cells": [
  {
   "cell_type": "markdown",
   "metadata": {},
   "source": [
    "# Microcontroller\n",
    "Support for bluetooth serial port profile ([SPP](https://www.bluetooth.com/specifications/specs/serial-port-profile-1-1/)) is needed.  Only the ESP32 has this feature.  There's already support for it in Arduino/PlatformIO as well.\n",
    "\n",
    "# Wireless Physical Layer\n",
    "M17-project uses : 4FSK, 9.6kbps, 12.5kHz bandwidth\n",
    "\n",
    "## LoRa versus FSK\n",
    "Two parameters are important here : sensitivity and adjacent channel blocking or selectivity.  Sensitivity is the minimum signal strength that can be received.  Blocking is the ability to receive a signal in the presence of a strong signal.  Sensitivity is important for long range communication, while blocking is important for multiple access communication.  \n",
    "\n",
    "### FSK Theory\n",
    "\n",
    "#### 2FSK\n",
    "* Frequency deviation (Δf) = the difference between the minimum and maximum extent of a frequency modulated signal, and the nominal center or carrier frequency.  \n",
    "$$f_{carrier} - f_{min} = f_{max} - f_{carrier} = \\Delta f$$\n",
    "* The relation between bandwidth (BW) and bitrate (BR) is defined by [Carson's Rule](https://en.wikipedia.org/wiki/Carson_bandwidth_rule) : $$BW = 2*(\\Delta f+\\frac{BR}{2}) = BR+2*\\Delta f$$\n",
    "* Modulation index : $$m = \\frac{2*\\Delta f}{BR}$$\n",
    "  * MSK : Minimum Shift Keying : m = 0.5 -> Δf = BR/4\n",
    "  * Narrowband FM when m < 1\n",
    "\n",
    "#### 4FSK\n",
    "* modulation index m (innerdeviation is frequency difference of the two used modulating frequencies): \n",
    "$$m = \\frac{2*innerdeviation}{symbolrate}$$\n",
    "  * 2x more spectrally efficient modulation than 2GFSK.\n",
    "* For the same data rate and modulation index, 4GFSK has about 2dB loss in sensitivity with respect to 2GFSK:\n",
    "  * inner deviation = outer deviation / 3.  For the same data rate the bandwidth is halved, so the inner deviation for 4GFSK is only 1/6 of the frequency deviation of the 2GFSK.  This corresponds to a 5dB loss (depends on modulation index).\n",
    "  * Halving the RX bandwidth for 4GFSK reduces noise power in the modem by 3dB.\n",
    "\n",
    "#### References\n",
    "* [4gfsk_vs_2gfsk](https://www.silabs.com/community/wireless/proprietary/knowledge-base.entry.html/2015/06/05/4gfsk_vs_2gfsk_sens-u6p6)\n",
    "* [Calculation of the modulation index for digital frequency modulation](https://www.silabs.com/community/wireless/proprietary/knowledge-base.entry.html/2015/02/04/calculation_of_them-Vx5f)\n",
    "\n",
    "### LoRa\n",
    "For LoRa SF7, CR=2 (4/6 = 2 error correction bits per 4 data bits), **BW=250kHz**, bit rate is 9.1kbps.  It's 10.1kbps when CR=1.  For these settings, the SX1278 has a receiver sensitivity of -120 to -122dBm.\n",
    "\n",
    "## Choice of chipset\n",
    "* **Si4463** : (PER 1%), (9.6 kbps, 4GFSK, BT = 0.5, df = +/-2.4kHz) : -110dBm\n",
    "* ADF7021 : NRND\n",
    "* CC1200 : 38.4kbps 2-GFSK, DEV=20 kHz CHF=104 kHz : -111dBm\n",
    "* CC1125 : 50-kbps 2-GFSK, DEV=25 kHz, CHF=100 kHz : -109dBm\n",
    "* AX5243 : no longer advertised on the OnSemi website\n",
    "\n",
    "Sensitivity is hard to compare between chipsets because there's no data available of the mode we're interested in.  \n",
    "I already wrote code to transfer large packets (>600bytes) with the Si4463, so I'll stick with it.  The Si4463 is quite complex, so maybe that's the reason it's not popular in the hobbyist community. \n",
    "\n",
    "## Choice of Si4463 module\n",
    "| Module | Output Power | Price |\n",
    "| --- | --- | --- |\n",
    "| [HopeRF RFM26W](https://www.hoperf.com/modules/rf_transceiver/RFM26W.html) | 10dBm | (?) |\n",
    "| [NiceRF RF4463F30](https://www.nicerf.com/fsk-front-end-module/1w-rf-module-rf4463f30.html) | 30dBm | [€23.17/2pcs](https://www.aliexpress.com/item/32393788759.html) |\n",
    "| [Ebyte E30-400M30S(4463)](https://www.cdebyte.com/products/E30-400M30S(4463)) | 30dBm | [€6.65/pce](https://www.aliexpress.com/item/1005003695107704.html) |\n",
    "\n",
    "\n",
    "The RF4463F30 is better documented than the E30-400M30S(4463) but it's also twice as expensive.  Firmware development will continue on the now obsolete E10-433MD-SMA."
   ]
  }
 ],
 "metadata": {
  "kernelspec": {
   "display_name": "Python 3",
   "language": "python",
   "name": "python3"
  },
  "language_info": {
   "name": "python",
   "version": "3.10.5"
  }
 },
 "nbformat": 4,
 "nbformat_minor": 2
}
