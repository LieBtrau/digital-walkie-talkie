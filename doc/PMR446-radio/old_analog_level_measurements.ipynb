{
 "cells": [
  {
   "cell_type": "markdown",
   "id": "b99f5450",
   "metadata": {},
   "source": [
    "# Audio levels\n",
    "* 0dBFS = maximum sine amplitude for digital signals.\n",
    "* The nominal signal level is 0 VU.\n",
    "* In consumer audio, the line level is 0 VU = -10dBV = 894mVpp\n",
    "* The reference of digital value to the analog voltage is not fixed (see [wiki](https://en.wikipedia.org/wiki/DBFS)). European and UK calibration for Post & Film[clarification needed] is −18 dBFS = 0 VU.\n",
    "\n",
    "## Sound card settings\n",
    "\n",
    "Using REW calibration.  A -12dBFS sine wave is generated.  With the settings below, a -18dBFS sinewave is being received.\n",
    "```\n",
    "$ pactl set-sink-volume alsa_output.usb-GeneralPlus_USB_Audio_Device-00.analog-stereo 50%\n",
    "$ pactl set-source-volume alsa_input.usb-GeneralPlus_USB_Audio_Device-00.analog-stereo 50%\n",
    "```\n",
    "This is probably also the best setting to remain high enough above the noise floor while still allowing for enough headroom.\n",
    "\n",
    "# Yaesu FT65-E to Midland G9-Pro\n",
    "## Test setup\n",
    "1. PC generates a -3dBFS 1kHz sine wave using [REW](https://www.roomeqwizard.com/) → Tools → Generator\n",
    "2. USB sound card amplitude is set to `pactl set-sink-volume alsa_output.usb-GeneralPlus_USB_Audio_Device-00.analog-stereo 20%`.  \n",
    "3. Analog output of USB sound card is directly connected to analog in of the Yaesu FT65-E (Tip and ring of 2.5mm jack)\n",
    "4. PTT of Yaesu connected : 2.2kΩ in series with a switch connected between Tip and ring of 2.5mm jack.\n",
    "5. Analog out of Midland G9-Pro connected to analog input of USB-sound card and connected to oscilloscope.\n",
    "6. The oscilloscope measures the harmonics as a measure for the signal distortion.\n",
    "\n",
    "# TODO : rewrite and use REW instead of oscilloscope and function generator\n",
    "\n",
    "### Audio input test\n",
    "#### Test setup\n",
    "1. Set frequency generator to output 1kHz sine wave, 10mVpp to 50mVpp\n",
    "2. Connect output of frequency generator with a 2.2µF capacitor to the radio analog input.  The AC-coupling is needed, otherwise the function generator will mess up with the PTT-detection circuit of the radio.\n",
    "3. Connect a 2.2K resistor from the radio analog input with a PTT-switch to GND.\n",
    "4. Oscilloscope channel 1 = analog input of the radio\n",
    "5. Oscilloscope channel 2 = analog output of the Midland G9Pro\n",
    "6. Do an FFT-operation on channel 2 of the scope, to determine harmonic distortion.\n",
    "\n",
    "<img src=\"./measurements/Yaesu_analog_in.png\" alt=\"Yaesu FT-65E analog input\" >\n",
    "\n",
    "Measurements show that as the amplitude increases, the second harmonic remains about 35dB below the fundamental.  At some point, the 3rd harmonic will rise rapidly.  \n",
    "We determine the maximum amplitude of the analog input of the radio as the amplitude where the peak of the 3rd harmonic equals the peak of the 2nd harmonic.\n",
    "\n",
    "Maximum analog input voltage peak-peak for the Yaesu FT-65E = **30mVpp**"
   ]
  }
 ],
 "metadata": {
  "kernelspec": {
   "display_name": "Python 3 (ipykernel)",
   "language": "python",
   "name": "python3"
  },
  "language_info": {
   "codemirror_mode": {
    "name": "ipython",
    "version": 3
   },
   "file_extension": ".py",
   "mimetype": "text/x-python",
   "name": "python",
   "nbconvert_exporter": "python",
   "pygments_lexer": "ipython3",
   "version": "3.10.6"
  }
 },
 "nbformat": 4,
 "nbformat_minor": 5
}
