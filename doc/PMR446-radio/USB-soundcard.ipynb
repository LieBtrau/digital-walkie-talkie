{
 "cells": [
  {
   "cell_type": "markdown",
   "id": "a5b6e2b3",
   "metadata": {},
   "source": [
    "# Test audio input levels\n",
    "\n",
    "More info about this sound card is available on [USB CDC Robosapien V1 project log](https://hackaday.io/project/28445-usb-cdc-robosapien-v1/log/100470-audio-connection-on-pc-side).\n",
    "\n",
    "## Test setup\n",
    "1. Generate 1kHz sine wave with function generator\n",
    "2. Measure Vpp value of the sine wave with the oscilloscope\n",
    "3. Connect output of sine wave to microphone input of USB-sound card\n",
    "4. Check what Vpp level is allowed for each pactl attenuation setting.\n",
    "\n",
    "ℹ : MIC-level in `alsamixer` doesn't seem to have any effect for this USB-sound card.  That's why `pactl` is used.\n",
    "\n",
    "Get current MIC_IN-level:\n",
    "```\n",
    "$ pactl get-source-volume alsa_input.usb-GeneralPlus_USB_Audio_Device-00.mono-fallback\n",
    "Volume: mono: 65536 / 100% / 0.00 dB\n",
    "        balance 0.00\n",
    "```\n",
    "Set current MIC_IN-level to 90%:\n",
    "```\n",
    "$ pactl set-source-volume alsa_input.usb-GeneralPlus_USB_Audio_Device-00.mono-fallback 90%\n",
    "```\n",
    "| Sine wave mVpp | volume \\[%\\] | volume \\[dB\\]|\n",
    "|----------------|--------------|--------------|\n",
    "| 67 | 100 | 0 |\n",
    "| 86 | 90 | -2.75 |\n",
    "| 113 | 80 | -5.81 |\n",
    "| 158 | 70 | -9.29 |\n",
    "| 252 | 60 | -13.31 |\n",
    "| 416 | 50 | -18.06 |\n",
    "| 814 | 40 | -23.88 |\n",
    "| 1932 | 30 | -31.37 |\n",
    "| >20000 |20|-41.94 |"
   ]
  }
 ],
 "metadata": {
  "kernelspec": {
   "display_name": "Python 3 (ipykernel)",
   "language": "python",
   "name": "python3"
  },
  "language_info": {
   "codemirror_mode": {
    "name": "ipython",
    "version": 3
   },
   "file_extension": ".py",
   "mimetype": "text/x-python",
   "name": "python",
   "nbconvert_exporter": "python",
   "pygments_lexer": "ipython3",
   "version": "3.10.6"
  }
 },
 "nbformat": 4,
 "nbformat_minor": 5
}
