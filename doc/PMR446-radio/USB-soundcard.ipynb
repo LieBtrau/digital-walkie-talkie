{
 "cells": [
  {
   "cell_type": "markdown",
   "id": "91dba332",
   "metadata": {},
   "source": [
    "# Test audio input levels\n",
    "\n",
    "More info about this sound card is available on [USB CDC Robosapien V1 project log](https://hackaday.io/project/28445-usb-cdc-robosapien-v1/log/100470-audio-connection-on-pc-side).\n",
    "\n",
    "## Test setup\n",
    "1. Generate 1kHz sine wave with function generator\n",
    "2. Measure Vpp value of the sine wave with the oscilloscope\n",
    "3. Connect output of sine wave to microphone input of USB-sound card\n",
    "4. Check what Vpp level is allowed for each pactl attenuation setting.\n",
    "\n",
    "ℹ : MIC-level in `alsamixer` doesn't seem to have any effect for this USB-sound card.  Because the `pactl`-setting corresponds with the setting in the Ubuntu input audio level setting we use that instead of `alsamixer`.\n",
    "\n",
    "Get current MIC_IN-level:\n",
    "```\n",
    "$ pactl get-source-volume alsa_input.usb-GeneralPlus_USB_Audio_Device-00.mono-fallback\n",
    "Volume: mono: 65536 / 100% / 0.00 dB\n",
    "        balance 0.00\n",
    "```\n",
    "Set current MIC_IN-level to 90%:\n",
    "```\n",
    "$ pactl set-source-volume alsa_input.usb-GeneralPlus_USB_Audio_Device-00.mono-fallback 90%\n",
    "```\n",
    "| Sine wave mVpp | volume \\[%\\] | volume \\[dB\\]|\n",
    "|----------------|--------------|--------------|\n",
    "| 67 | 100 | 0 |\n",
    "| 86 | 90 | -2.75 |\n",
    "| 113 | 80 | -5.81 |\n",
    "| 158 | 70 | -9.29 |\n",
    "| 252 | 60 | -13.31 |\n",
    "| 416 | 50 | -18.06 |\n",
    "| 814 | 40 | -23.88 |\n",
    "| 1932 | 30 | -31.37 |\n",
    "| >20000 |20|-41.94 |\n",
    "\n",
    "# Test audio output levels\n",
    "* Download a -3dBFS 1kHz sine wave from [audiocheck.net](https://www.audiocheck.net/audiofrequencysignalgenerator_sinetone.php).  They also offer dual sine tone samples for IMD-tests.\n",
    "\n",
    "Get audio volume setting of the USB-sound card:\n",
    "```\n",
    "$ pactl get-sink-volume alsa_output.usb-GeneralPlus_USB_Audio_Device-00.analog-stereo\n",
    "```\n",
    "Set audio volume setting of the USB-sound card:\n",
    "```\n",
    "$ pactl set-sink-volume alsa_output.usb-GeneralPlus_USB_Audio_Device-00.analog-stereo 100%\n",
    "```\n",
    "Output peak-peak voltage for a -3dBFS sine wave.  For a 0dBFS sine wave, multiply the mVpp by 1.41\n",
    "\n",
    "| Sine wave mVpp | volume \\[%\\] | volume \\[dB\\]|\n",
    "|----------------|--------------|--------------|\n",
    "| 1520 | 100 | 0 |\n",
    "| 1117 | 90 | -2.75 |\n",
    "| 803 | 80 | -5.81 |\n",
    "| 87 | 30 | -31.37 | \n",
    "| 51 | 20 | -41.94 |\n",
    "| | 18 <br><18% → no more audio output for a -3dBFS 1kHz sine wave | -44.68|\n",
    "| 38 (in the noise floor)| 10 | -60 |"
   ]
  }
 ],
 "metadata": {
  "kernelspec": {
   "display_name": "Python 3 (ipykernel)",
   "language": "python",
   "name": "python3"
  },
  "language_info": {
   "codemirror_mode": {
    "name": "ipython",
    "version": 3
   },
   "file_extension": ".py",
   "mimetype": "text/x-python",
   "name": "python",
   "nbconvert_exporter": "python",
   "pygments_lexer": "ipython3",
   "version": "3.10.6"
  }
 },
 "nbformat": 4,
 "nbformat_minor": 5
}
