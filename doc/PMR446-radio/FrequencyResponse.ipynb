{
 "cells": [
  {
   "cell_type": "markdown",
   "id": "0977abbb",
   "metadata": {},
   "source": [
    "### Test setup\n",
    "## Hardware\n",
    "* [USB-Audio sound card](https://hackaday.io/project/28445-usb-cdc-robosapien-v1/log/100470-audio-connection-on-pc-side)\n",
    "\n",
    "## Software\n",
    "* [Room Acoustics Software](https://www.roomeqwizard.com/)\n",
    "  * Free\n",
    "  * OS : Windows, Linux\n",
    "  * How to use : [Andreas Spiess :  #413 Your PC Soundcard is an Oscilloscope, a Signal Generator, and a Spectrum Analyzer (Arta, REW)](https://www.youtube.com/watch?v=dX0QkL8xMmE)\n",
    "  * Adjust volume with volume knob on HT and main volume control of the PC to get -18dBFS input level at the start of the test.\n",
    "  \n",
    "## Audio levels\n",
    "  * The sweep level at the headphone output of the USB sound card is -12dBFS, which is about 150mVpp as measured on the oscilloscope.\n",
    "  * The input level at the MIC_IN of the USB sound card is -18dBFS, which is about 430mVpp as measured on the oscilloscope.\n",
    "  \n",
    "\n",
    "# Midland G9Pro → Yaesu FT-65E\n",
    "\n",
    "## Connection\n",
    "TRS connectors are used.  If TRRS would be used, then connect sleeve to ring2.\n",
    "* *Audio out* : Soundcard Headphone_OUT.TIP → G9Pro.TRS2.5.TIP\n",
    "* *Audio out GND* : Soundcard Headphone_OUT.SLEEVE → G9Pro.TRS2.5.SLEEVE\n",
    "* *PTT* : G9Pro.TRS2.5.TIP → 2.2Kohm → momentary switch → G9Pro.TRS2.5.SLEEVE\n",
    "* *Audio in* : FT65-E.TRS3.5.TIP → Voltage divider (50% : 2.2K:1.4K) → Soundcard.MIC_IN.TIP\n",
    "* *Audio in GND* : FT65-E.TRS3.5.SLEEVE → Soundcard.MIC_IN.SLEEVE\n",
    "\n",
    "\n",
    "## Result\n",
    "<img src=\"./measurements/Frequency response G9Pro to FT65-E.png\" alt=\"Frequency response Midland G9Pro to Yaesu FT65-E\" style=\"width:800px\">\n",
    "The audio below 300Hz is filtered out because of Digital Code Squelch (DCS), which is encoded below 300Hz.  This high pass audio filter reduces the CDCSS signal at the speaker.\n",
    "\n",
    "\n",
    "# Yaesu FT-65E → Midland G9Pro\n",
    "\n",
    "## Connection\n",
    "TRS connectors are used.  If TRRS would be used, then connect sleeve to ring2.\n",
    "* *Audio out* : Soundcard Headphone_OUT.TIP → FT65-E.TRS2.5.TIP\n",
    "* *Audio out GND* : Soundcard Headphone_OUT.SLEEVE → FT65-E.TRS2.5.SLEEVE\n",
    "* *PTT* : FT65-E.TRS2.5.TIP → 2.2Kohm → momentary switch → FT65-E.TRS2.5.SLEEVE\n",
    "* *Audio in* : G9Pro.TRS3.5.TIP → Voltage divider (20% : 2.2K:470K) → Soundcard.MIC_IN.TIP\n",
    "* *Audio in GND* : G9Pro.TRS3.5.SLEEVE → Soundcard.MIC_IN.SLEEVE\n",
    "\n",
    "\n",
    "## Result\n",
    "<img src=\"./measurements/Frequency response FT65-E to G9Pro.png\" alt=\"Frequency response FT65-E to G9Pro\" style=\"width:800px\">\n",
    "This frequency response is clearly much flatter than when the Midland G9Pro is transmitting."
   ]
  },
  {
   "cell_type": "code",
   "execution_count": null,
   "id": "5ca83d0e",
   "metadata": {},
   "outputs": [],
   "source": []
  }
 ],
 "metadata": {
  "kernelspec": {
   "display_name": "Python 3 (ipykernel)",
   "language": "python",
   "name": "python3"
  },
  "language_info": {
   "codemirror_mode": {
    "name": "ipython",
    "version": 3
   },
   "file_extension": ".py",
   "mimetype": "text/x-python",
   "name": "python",
   "nbconvert_exporter": "python",
   "pygments_lexer": "ipython3",
   "version": "3.10.6"
  }
 },
 "nbformat": 4,
 "nbformat_minor": 5
}
