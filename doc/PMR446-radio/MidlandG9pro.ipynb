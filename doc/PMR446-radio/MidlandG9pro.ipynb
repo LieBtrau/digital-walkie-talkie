{
 "cells": [
  {
   "cell_type": "markdown",
   "id": "ea66718a",
   "metadata": {},
   "source": [
    "## Midland G9 Pro\n",
    "\n",
    " <img src=\"./doc/midlandg9pro_product_image.jpg\" alt=\"Midland G9 Pro product image\" style=\"width:300px\">\n",
    " \n",
    "### Radio settings\n",
    "The radio can work with two different PMR-channel sets\n",
    "1. G9 PRO traditional band : 8 channels (+ 16 preprogrammed ones that use the same frequencies with the 8 channels)\n",
    "2. G9 PRO (new band) : 16 channels (+ 16 preprogrammed ones that use the same frequencies with the 8 channels)\n",
    "\n",
    "* [Channel list](./doc/8f8ebdc9da1fd9110cbd3557c7c3e5df0c08e5ac_CHANNELS_G9_PRO.pdf)\n",
    "* [User manual](0e696682f9c9f13678aeb36db453cce81be4fc38_MANUAL_G9_PRO_UK.pdf)\n",
    "* <img src=\"./doc/104-DCS-codes.jpg\" alt=\"DCS-codes\" style=\"width:300px\">\n",
    "* <img src=\"././doc/midland-ctcss-tones.png\" alt=\"CTCSS-tones\" style=\"width:500px\">\n",
    "\n",
    "### Audio IO\n",
    "Don't fit a Kenwood K-1 connector in here.  It fits, but the pinout is different.\n",
    "![2 prong connector](http://www.wiki.robotz.com/images/f/fe/Midlandxt511_trspinoutcolors.jpg)\n",
    "* 3.5mm : \n",
    " * Tip = Speaker + : \n",
    " * Ring1 = ?\n",
    " * Ring2 = GND (Speaker -)\n",
    " * Sleeve = \n",
    "* 2.5mm : \n",
    " * Tip = PTT switch in series with electret-MIC (1K internal resistance)\n",
    " * Ring = ?\n",
    " * Sleeve = GND"
   ]
  },
  {
   "cell_type": "code",
   "execution_count": null,
   "id": "e3560e8d",
   "metadata": {},
   "outputs": [],
   "source": []
  }
 ],
 "metadata": {
  "kernelspec": {
   "display_name": "Python 3 (ipykernel)",
   "language": "python",
   "name": "python3"
  },
  "language_info": {
   "codemirror_mode": {
    "name": "ipython",
    "version": 3
   },
   "file_extension": ".py",
   "mimetype": "text/x-python",
   "name": "python",
   "nbconvert_exporter": "python",
   "pygments_lexer": "ipython3",
   "version": "3.10.6"
  }
 },
 "nbformat": 4,
 "nbformat_minor": 5
}
