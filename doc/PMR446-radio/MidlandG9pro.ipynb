{
 "cells": [
  {
   "cell_type": "markdown",
   "id": "ea66718a",
   "metadata": {},
   "source": [
    "## Midland G9 Pro\n",
    "\n",
    " <img src=\"./doc/midlandg9pro_product_image.jpg\" alt=\"Midland G9 Pro product image\" style=\"width:300px\">\n",
    "\n",
    " * Costs around €100.\n",
    " * LCD-screen is hardly readable when seen from above.\n",
    " \n",
    "### Radio settings\n",
    "The radio can work with two different PMR-channel sets\n",
    "1. G9 PRO traditional band : 8 frequencies (from 446.00625MHz to 446.09375 MHz, 12.5kHz steps)\n",
    "  * channels 1 to 8 : with configurable CTCSS/DCS\n",
    "  * channels 9 to 16 : with CTCSS fixed to code 16 (114.8 Hz)\n",
    "  * channels 17 to 24 : with CTCSS fixed to code 31 (192.8 Hz)\n",
    "2. G9 PRO (new band) : 16 frequencies (from 446.00625MHz to 446.19375 MHz, 12.5kHz steps)\n",
    "  * channels 1 to 16 : with configurable CTCSS/DCS\n",
    "  * channels 17 to 32 : with CTCSS set to code 16 (114.8 Hz)\n",
    "\n",
    "* [Channel list](./doc/8f8ebdc9da1fd9110cbd3557c7c3e5df0c08e5ac_CHANNELS_G9_PRO.pdf)\n",
    "* [User manual](0e696682f9c9f13678aeb36db453cce81be4fc38_MANUAL_G9_PRO_UK.pdf)\n",
    "* <img src=\"./doc/104-DCS-codes.jpg\" alt=\"DCS-codes\" style=\"width:300px\">\n",
    "* <img src=\"././doc/midland-ctcss-tones.png\" alt=\"CTCSS-tones\" style=\"width:500px\">\n",
    "\n",
    "### Audio IO\n",
    "Don't fit a Kenwood K-1 connector in here.  It fits, but the pinout is different.\n",
    "![2 prong connector](http://www.wiki.robotz.com/images/f/fe/Midlandxt511_trspinoutcolors.jpg)\n",
    "* 3.5mm : \n",
    "  * Tip = Speaker + : \n",
    "  * Ring = ?\n",
    "  * Sleeve = GND (Speaker -)\n",
    "* 2.5mm : \n",
    "  * Tip = MIC_IN\n",
    "    * Option 1 : Connect a PTT switch in series with electret-MIC (1K internal resistance)\n",
    "    * Option 2 : Connect audio output of TNC between MIC_IN and GND.  Add a 2K2 resistor between MIC_IN and GND to activate PTT.\n",
    "  * Ring = ?\n",
    "  * Sleeve = GND (connected to 3.5mm sleeve inside the radio)\n",
    "  \n",
    "## Analog output\n",
    "* Maximum audio output level is about 3Vpp.  Be careful : turning your volume knob open too far will cause your audio to clip, causing heavy distorted sound.\n",
    "* Vcm when no audio is present = 2.40V\n",
    "* Vcm when producing audio at max amplitude = 2.50V\n"
   ]
  },
  {
   "cell_type": "code",
   "execution_count": null,
   "id": "6c22ac34",
   "metadata": {},
   "outputs": [],
   "source": []
  }
 ],
 "metadata": {
  "kernelspec": {
   "display_name": "Python 3 (ipykernel)",
   "language": "python",
   "name": "python3"
  },
  "language_info": {
   "codemirror_mode": {
    "name": "ipython",
    "version": 3
   },
   "file_extension": ".py",
   "mimetype": "text/x-python",
   "name": "python",
   "nbconvert_exporter": "python",
   "pygments_lexer": "ipython3",
   "version": "3.10.6"
  }
 },
 "nbformat": 4,
 "nbformat_minor": 5
}
