{
 "cells": [
  {
   "cell_type": "markdown",
   "id": "f0e40bd8",
   "metadata": {},
   "source": [
    "# How to set the audio levels?\n",
    "The following settings can be adjusted:\n",
    "* PC audio output attenuation\n",
    "* Transmitter analog input attenuation (by addition of external resistor divider)\n",
    "* Receiver analog output attenuation by the user turning the volume knob.\n",
    "* PC analog input attenuation.\n",
    "\n",
    "We will set these so that the generated audio will never be overdriven.  This might however lead to too low audio levels in some cases.  I'm no expert in this domain.\n",
    "\n",
    "As the final application will be depending on the user setting the volume knob correctly, we should make sure that it works with all the volume knob settings.  If the user turns the volume button too far, the received audio will be distorted.  There's no software setting on the receiving end that can correct for that.\n",
    "\n",
    "If we just put the volume knob of the receiving radio to maximum, that will also be easiest for the user to set up, as there are no volume indications on that knob (at least not on the Midland G9-Pro).\n",
    "\n",
    "When the volume knob on the receiving end it at maximum, the ingoing audio at the transmitter must be attenuated to avoid distortion on the receiving end.  This can be done either by the _PC audio output attenuation_ or the _Transmitter analog input attenuation_.\n",
    "\n",
    "By generating a 0dBFS audio signal, with PC output volume set to 100% (0dB attenuation), the maximum output signal of the sound card is used.\n",
    "<img src=\"./measurements/generation_1kHz_0dBFS_audio.png\" alt=\"Generating 0dBFS sine wave 1kHz with REW\" width=\"500px\" >\n",
    "To avoid overdriving the analog input of the USB sound card, the input level is set to minimum (=18%)\n",
    "```\n",
    "pactl set-source-volume alsa_input.usb-GeneralPlus_USB_Audio_Device-00.mono-fallback 18%\n",
    "```\n",
    "We then adjust the resistor divider on the transmitter so that the received audio is not distorted.  As such, we make sure that the audio will not be overdriven in any case.\n",
    "\n",
    "## Test setup\n",
    "1. Audio output level of USB-sound card set to 100%.\n",
    "2. Generate a 0dBFS 1kHz sine wave using REW.\n",
    "3. USB-sound card input connected to Yaesu's analog input using a resistor divider (potmeter) and a capacitor.\n",
    "4. Connect PTT-switch to Yaesu FT65-E analog input.\n",
    "5. Set analog input level of USB-sound card to 18%.\n",
    "6. Connect analog output of Midland G9-Pro directly to USB sound card input.\n",
    "7. Start transmitting by pushing PTT-switch.\n",
    "8. Monitor incoming audio of USB-sound card using REW Scope and REW RTA.\n",
    "9. Regulate potentiometer so that you get maximum audio level without clipping (occurrence of harmonics on RTA window).\n",
    "\n",
    "## Test results\n",
    "### Measurements\n",
    "\n",
    "| REW : Scope : Time domain | REW : RTA Window : Frequency domain |\n",
    "|-------------|------------------|\n",
    "|<a href=\"./measurements/oscilloscope_receiving_1kHz_0dBFS_audio.png\"><img src=\"./measurements/oscilloscope_receiving_1kHz_0dBFS_audio.png\" alt=\"Scope image of analog input\"></a>|<a href=\"./measurements/frequency_spectrum_receiving_0dBFS.png\"><img src=\"./measurements/frequency_spectrum_receiving_0dBFS.png\" alt=\"Harmonic content of received 1kHz audio signal\"></a>|\n",
    "\n",
    "The resistor divider at the input of the transmitter had a top resistor of 2.27kΩ and a bottom resistor of 15Ω."
   ]
  },
  {
   "cell_type": "code",
   "execution_count": null,
   "id": "740b44aa",
   "metadata": {},
   "outputs": [
    {
     "name": "stdout",
     "output_type": "stream",
     "text": [
      "The attenuation of the resistor divider is -43.66dB.\n"
     ]
    }
   ],
   "source": [
    "import math\n",
    "R1 = 2.27e3\n",
    "R2 = 15\n",
    "\n",
    "attenuation_dB = 20 * math.log10(R2/(R1+R2))\n",
    "print('The attenuation of the resistor divider is {:.4}dB.'.format(attenuation_dB))"
   ]
  },
  {
   "cell_type": "markdown",
   "id": "dd02a5cd",
   "metadata": {},
   "source": [
    "### Resulting schematic of analog input to Yaesu FT65-E\n",
    "<a href=\"./doc/Handheld-radio-analog-audio-interface.png\"><img src=\"./doc/Handheld-radio-analog-audio-interface.png\" alt=\"Soundcard to Yaesu FT65-E analog input\"></a>\n",
    "\n",
    "R1 has been increased to 10kΩ, which is a normal load impedance for a line-out interface.\n",
    "The capacitor decouples the DC-level of the audio from the Yaesu's input.  We have to avoid coupling DC into the Yaesu's input because it causes the PTT to work incorrectly.\n",
    "The PTT-switch connects a 2.2kΩ resistor to the Yaesu's analog input.  This causes the Yaesu to start transmitting.\n",
    "\n",
    "The second schematic includes a low-pass filter to filter out-of-band disturbances, such as caused by the RF-transmission coupling into the audio cable.\n",
    "\n",
    "## Conclusion\n",
    "An analog interface between the sound card and the Yaesu FT65-E has been designed.  Later tests will show that this interface is capable of transferring Rattlegram datagrams."
   ]
  }
 ],
 "metadata": {
  "kernelspec": {
   "display_name": "Python 3 (ipykernel)",
   "language": "python",
   "name": "python3"
  },
  "language_info": {
   "codemirror_mode": {
    "name": "ipython",
    "version": 3
   },
   "file_extension": ".py",
   "mimetype": "text/x-python",
   "name": "python",
   "nbconvert_exporter": "python",
   "pygments_lexer": "ipython3",
   "version": "3.10.6"
  }
 },
 "nbformat": 4,
 "nbformat_minor": 5
}
