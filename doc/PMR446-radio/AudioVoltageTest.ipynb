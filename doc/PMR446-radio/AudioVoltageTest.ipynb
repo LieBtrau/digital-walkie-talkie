{
 "cells": [
  {
   "cell_type": "markdown",
   "id": "b99f5450",
   "metadata": {},
   "source": [
    "# Audio levels\n",
    "* 0dBFS = maximum sine amplitude for digital signals.\n",
    "* The nominal signal level is 0 VU.\n",
    "* In consumer audio, the line level is 0 VU = -10dBV = 894mVpp\n",
    "* The reference of digital value to the analog voltage is not fixed (see [wiki](https://en.wikipedia.org/wiki/DBFS)). European and UK calibration for Post & Film[clarification needed] is −18 dBFS = 0 VU.\n",
    "\n",
    "## Sound card settings\n",
    "\n",
    "Using REW calibration.  A -12dBFS sine wave is generated.  With the settings below, a -18dBFS sinewave is being received.\n",
    "```\n",
    "$ pactl set-sink-volume alsa_output.usb-GeneralPlus_USB_Audio_Device-00.analog-stereo 50%\n",
    "\n",
    "```\n",
    "This is probably also the best setting to remain high enough above the noise floor while still allowing for enough headroom.\n",
    "\n",
    "# Yaesu FT65-E to Midland G9-Pro\n",
    "## Test setup\n",
    "1. Analog output of USB sound card is directly connected to analog in of the Yaesu FT65-E (Tip and ring of 2.5mm jack)\n",
    "2. PTT of Yaesu connected : 2.2kΩ in series with a switch connected between Tip and ring of 2.5mm jack.\n",
    "3. Analog out of Midland G9-Pro connected to analog input of USB-sound card and connected to oscilloscope.\n",
    "4. Oscilloscope channel 1 = analog input of the radio\n",
    "5. Oscilloscope channel 2 = analog output of the Midland G9Pro\n",
    "\n",
    "### Audio input test\n",
    "#### Test setup\n",
    "1. Generate a 1kHz sine wave, 10mVpp to 50mVpp:\n",
    "    * Option 1 : use a good frequency generator\n",
    "    * Option 2 : using [REW](https://www.roomeqwizard.com/) → Tools → Generator and adjust the USB sound card amplitude to get the desired amplitude:  e.g. `pactl set-sink-volume alsa_output.usb-GeneralPlus_USB_Audio_Device-00.analog-stereo 20%`.  \n",
    "2. Measure harmonic distortion : \n",
    "    * Option 1 : Do an FFT-operation on channel 2 of the scope.\n",
    "    * Option 2 : Use the scope functionality of [REW](https://www.roomeqwizard.com/) to check that you're not overloading the input of your USB-sound card.  If so, decrease input audio volume : e.g. `$ pactl set-source-volume alsa_input.usb-GeneralPlus_USB_Audio_Device-00.analog-stereo 50%`.  Use the RTA tool in [REW](https://www.roomeqwizard.com/) to check for harmonic distortion.\n",
    "\n",
    "<img src=\"./measurements/Yaesu_analog_in.png\" alt=\"Yaesu FT-65E analog input\" >\n",
    "\n",
    "Measurements show that as the amplitude increases, the second harmonic remains about 35dB below the fundamental.  At some point, the 3rd harmonic will rise rapidly.  \n",
    "We determine the maximum amplitude of the analog input of the radio as the amplitude where the peak of the 3rd harmonic equals the peak of the 2nd harmonic.\n",
    "\n",
    "Maximum analog input voltage peak-peak for the Yaesu FT-65E = **30mVpp**"
   ]
  }
 ],
 "metadata": {
  "kernelspec": {
   "display_name": "Python 3 (ipykernel)",
   "language": "python",
   "name": "python3"
  },
  "language_info": {
   "codemirror_mode": {
    "name": "ipython",
    "version": 3
   },
   "file_extension": ".py",
   "mimetype": "text/x-python",
   "name": "python",
   "nbconvert_exporter": "python",
   "pygments_lexer": "ipython3",
   "version": "3.10.6"
  }
 },
 "nbformat": 4,
 "nbformat_minor": 5
}
