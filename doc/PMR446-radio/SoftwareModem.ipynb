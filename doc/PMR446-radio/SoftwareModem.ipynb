{
 "cells": [
  {
   "cell_type": "markdown",
   "id": "1e85c855",
   "metadata": {},
   "source": [
    "# Test setup\n",
    "We use the same hardware test setup as in [sending from FT65-E to G9Pro](FrequencyResponse.ipynb#Connection).\n",
    "The sending station is the same as the receiving station.  The sending station sends data over the headphone output of the USB sound card.  The receiving station receives data from the microphone input of the same USB sound card.\n",
    "\n",
    "\n",
    "# Bell 202 1200bps\n",
    "`minimodem` - general-purpose software audio FSK modem is used to this purpose.  It's available from the Ubuntu package manager.\n",
    "\n",
    "The Bell 202 1200bps modulation used in APRS to send packets over the 2m FM-band.  \n",
    "\n",
    "Experiments have shown that 1200bps is about the maximum for this way of generating audio FSK.  Faster baud rates result in errors.\n",
    "\n",
    "## Test ✅\n",
    "Send a text file from one station to the other.  On the receiving side, the output is printed out on the command line.\n",
    "\n",
    "Sending station:\n",
    "`\n",
    "cat textfile.txt | minimodem --tx 1200\n",
    "`\n",
    "\n",
    "Receiving station:\n",
    "`\n",
    "minimodem --rx 1200\n",
    "`\n",
    "\n",
    "## Sound card setting\n",
    "The audio volume controls of your PC are not critical.  Probably the FSK-decoder only checks the zero-crossings of the audio signal, so the amplitude (and distortion) might be quite insignificant.\n",
    "\n",
    "\n",
    "# Aicodix modem\n",
    "This is the modem used in [Rattlegram](https://play.google.com/store/apps/details?id=com.aicodix.rattlegram&gl=US&pli=1)\n",
    "To build it, unzip the code from [modem](https://github.com/aicodix/modem), [code](https://github.com/aicodix/code) and [dsp](https://github.com/aicodix/dsp) into one folder and run the makefile.\n",
    "Andreas Spiess made [a video about Rattlegram](https://www.youtube.com/watch?v=ubPP48ojJ3E).\n",
    "\n",
    "## Offline test ✅\n",
    "```\n",
    "$ dd if=/dev/urandom of=uncoded.dat bs=1 count=5380\n",
    "5380+0 records in\n",
    "5380+0 records out\n",
    "5380 bytes (5.4 kB, 5.3 KiB) copied, 0.027005 s, 199 kB/s\n",
    "$ ./modem-master/encode encoded.wav 8000 16 1 uncoded.dat\n",
    "real PAPR: 7.04375 .. 11.5406 dB\n",
    "$ ./modem-master/decode decoded.dat encoded.wav \n",
    "symbol pos: 2298\n",
    "coarse cfo: 2000 Hz \n",
    "oper mode: 6\n",
    "call sign: ANONYMOUS\n",
    "demod .................................................. done\n",
    "coarse sfo: -0.0211067 ppm\n",
    "finer cfo: 2000 Hz \n",
    "init Es/N0: 30.7753 dB\n",
    "$ diff -s uncoded.dat decoded.dat \n",
    "Files uncoded.dat and decoded.dat are identical\n",
    "```\n",
    "Encoding 5380bytes results in 11s of audio."
   ]
  },
  {
   "cell_type": "code",
   "execution_count": 16,
   "id": "f611e065",
   "metadata": {},
   "outputs": [
    {
     "name": "stdout",
     "output_type": "stream",
     "text": [
      "bitrate = 3912.73bps\n"
     ]
    }
   ],
   "source": [
    "bytecount = 5380\n",
    "audio_duration = 11\n",
    "bitrate = bytecount * 8 / audio_duration\n",
    "print('bitrate = {:n}bps'.format(bitrate))"
   ]
  },
  {
   "cell_type": "markdown",
   "id": "90fed795",
   "metadata": {},
   "source": [
    "## Loopback test on USB sound card ✅\n",
    "### Audio level settings\n",
    "Loop back audio out to MIC-IN of the USB Sound card using a TRRS-cable. Alsamixer setting :\n",
    "* Speaker : 100\n",
    "* MIC : 7\n",
    "The tests have been performed with this setting.\n",
    "\n",
    "### Alternative audio level settings\n",
    "The `alsamixer`-settings that have been used in this test are unsuitable for the HTs.  The Yaesu FT65-E input audio signal should not be larger than 60mVpp, otherwise the audio will be distorted.\n",
    "* Speaker : 7 (-37.5dB gain) → 53mVpp at input of Yaesu FT65-E.\n",
    "  * The alsa speaker control changes with the main audio control in linux.\n",
    "* Microphone : audio settings → input → 100%\n",
    "  * The microphone level in alsa doesn't seem to do anything.  It's the linux sound settings input level which sets the microphone input level.\n",
    "\n",
    "```\n",
    "$ encode encoded.wav 8000 16 1 uncoded.dat 1450 NOCALL 13\n",
    "$ arecord -c 1 -f S16_LE -r 8000 -d 30 recorded.wav\n",
    "```\n",
    "Meanwhile on another terminal:\n",
    "```\n",
    "aplay encoded.wav\n",
    "```\n",
    "And when `arecord` has finished:\n",
    "```\n",
    "$ ./modem-master/decode decoded.dat recorded.wav \n",
    "symbol pos: 13821\n",
    "coarse cfo: 1450 Hz \n",
    "oper mode: 13\n",
    "call sign:    NOCALL\n",
    "demod .............................................................................................................................. done\n",
    "coarse sfo: 0.0544232 ppm\n",
    "finer cfo: 1450 Hz \n",
    "init Es/N0: 31.7376 dB\n",
    "```\n",
    "Remark that the Es/N0, aka. signal-to-noise ratio is around 30dB.  I had trouble with my test setup, yielding only 5 to 6dB.  In those cases the callsign could still be decoded, but data decoding failed."
   ]
  },
  {
   "cell_type": "markdown",
   "id": "43c3252b",
   "metadata": {},
   "source": [
    "### Overview of functioning modes\n",
    "The _Bandwidth_ is dictated by the _Mode_.  The _Offset_ shifts the _Spectrum usage_ in the frequency domain.\n",
    "\n",
    "|Modulation | Mode | Offset | Spectrum usage | Bandwidth | Sample duration |\n",
    "|-----------|------|--------|----------------|-----------|-----------------|\n",
    "| 8PSK | 6    | 1800Hz |450Hz - 3.15Hz  | 2700Hz    |10s |\n",
    "| 8PSK | 7    | 1800Hz |550Hz - 3.05kHz | 2500Hz    |11s |\n",
    "| QPSK | 8    | 1800Hz |550Hz - 3.05kHz | 2500Hz    |16s |\n",
    "| QPSK | 9    | 1800Hz |700Hz - 2.95kHz | 2250Hz    |18s |\n",
    "| 8PSK | 10   | 1800Hz |200Hz - 3.40kHz | 2400Hz    | 9s |\n",
    "| 8PSK | 11   | 1800Hz |600Hz - 3.00kHz | 2400Hz    |11s |\n",
    "| QPSK | 12   | 1450Hz |250Hz - 2.65kHz | 2400Hz    |18s |\n",
    "| QPSK | 12   | 1800Hz |600Hz - 3.00kHz | 2400Hz    |18s |\n",
    "| QPSK | 13   | 1450Hz |650Hz - 2.25kHz | 1600Hz    |25s |\n",
    "\n",
    "Minimum payload size is 5380 bytes.\n",
    "\n",
    "More info on [COFDMTV](https://www.aicodix.de/cofdmtv/).\n",
    "\n",
    "## Radio test on USB sound card \n",
    "\n",
    "### Test setup\n"
   ]
  },
  {
   "cell_type": "markdown",
   "id": "d95ab2b9",
   "metadata": {},
   "source": []
  }
 ],
 "metadata": {
  "kernelspec": {
   "display_name": "Python 3 (ipykernel)",
   "language": "python",
   "name": "python3"
  },
  "language_info": {
   "codemirror_mode": {
    "name": "ipython",
    "version": 3
   },
   "file_extension": ".py",
   "mimetype": "text/x-python",
   "name": "python",
   "nbconvert_exporter": "python",
   "pygments_lexer": "ipython3",
   "version": "3.10.6"
  }
 },
 "nbformat": 4,
 "nbformat_minor": 5
}
